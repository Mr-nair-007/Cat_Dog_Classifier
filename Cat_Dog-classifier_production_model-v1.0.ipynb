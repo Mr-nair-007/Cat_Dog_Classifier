{
 "cells": [
  {
   "cell_type": "code",
   "execution_count": null,
   "id": "07055b33",
   "metadata": {},
   "outputs": [],
   "source": [
    "import fastbook\n",
    "fastbook.setup_book()"
   ]
  },
  {
   "cell_type": "code",
   "execution_count": null,
   "id": "68a92434",
   "metadata": {},
   "outputs": [],
   "source": [
    "#hide\n",
    "from fastbook import *\n",
    "from fastai.vision.widgets import *\n"
    "import voila"
   ]
  },
  {
   "cell_type": "code",
   "execution_count": null,
   "id": "ffe589aa",
   "metadata": {},
   "outputs": [],
   "source": [
    "path = Path()"
   ]
  },
  {
   "cell_type": "code",
   "execution_count": null,
   "id": "47a34819",
   "metadata": {},
   "outputs": [],
   "source": [
    "learn_inf = load_learner(path/'export.pkl', cpu=True)\n",
    "btn_upload = widgets.FileUpload()\n",
    "out_pl = widgets.Output()\n",
    "lbl_pred = widgets.Label()"
   ]
  },
  {
   "cell_type": "code",
   "execution_count": null,
   "id": "5e225917",
   "metadata": {},
   "outputs": [],
   "source": [
    "def on_click(change):\n",
    "    img = PILImage.create(btn_upload.data[-1])\n",
    "    out_pl.clear_output()\n",
    "    with out_pl: display(img.to_thumb(128,128))\n",
    "    pred,pred_idx,probs = learn_inf.predict(img)\n",
    "    lbl_pred.value = f'prediction: {pred}; probability of being right: {100*probs[pred_idx]:.04f}%'"
   ]
  },
  {
   "cell_type": "code",
   "execution_count": null,
   "id": "ab926e91",
   "metadata": {},
   "outputs": [],
   "source": [
    "btn_upload.observe(on_click, names=['data'])"
   ]
  },
  {
   "cell_type": "markdown",
   "id": "c874f5b8",
   "metadata": {},
   "source": [
    "##This is a Cat or Dog classifier made by Mr_Nair. This model has a 92.8% Accuracy at predicting whether the image uploaded by the user is of a cat or dog.\n",
    "While it is not much, but still being trained just for 40 mins this model performs better than that 8 year old kid neighbours idiot kid..!!\n",
    "All you have to do is click on the upload button below,select an image of either a cat or a dog.(If you don't have an image google one and take screenshot then upload that) \"mere pass image nahi hai\" is not an acceptable response when I send you a link to this webapp.Lol!"
   ]
  },
  {
   "cell_type": "code",
   "execution_count": null,
   "id": "4b92ce66",
   "metadata": {},
   "outputs": [],
   "source": [
    "display(VBox([widgets.Label('Select your image'), btn_upload, out_pl, lbl_pred]))"
   ]
  },
  {
   "cell_type": "code",
   "execution_count": null,
   "id": "d1073fe9",
   "metadata": {},
   "outputs": [],
   "source": []
  }
 ],
 "metadata": {
  "kernelspec": {
   "display_name": "Python 3",
   "language": "python",
   "name": "python3"
  },
  "language_info": {
   "codemirror_mode": {
    "name": "ipython",
    "version": 3
   },
   "file_extension": ".py",
   "mimetype": "text/x-python",
   "name": "python",
   "nbconvert_exporter": "python",
   "pygments_lexer": "ipython3",
   "version": "3.7.3"
  }
 },
 "nbformat": 4,
 "nbformat_minor": 5
}
